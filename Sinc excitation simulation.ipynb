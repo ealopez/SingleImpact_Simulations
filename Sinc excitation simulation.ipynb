{
 "cells": [
  {
   "cell_type": "markdown",
   "metadata": {},
   "source": [
    "# Obtaining deflection in time for a sinc excited tip interacting with a viscoelastic solid (Standard Linear Solid)"
   ]
  },
  {
   "cell_type": "code",
   "execution_count": 1,
   "metadata": {
    "collapsed": true
   },
   "outputs": [],
   "source": [
    "import numpy as np\n",
    "from numba import jit\n",
    "from AFM_simulations import MDR_SLS_sinc, SLS_parabolic_LR_sinc, Hertzian_sinc\n",
    "import matplotlib.pyplot as plt\n",
    "from AFM_calculations import derivative_cd, av_dt\n",
    "%matplotlib inline\n",
    "\n",
    "\n",
    "A = -1.36e-9  #amplitude of the sinc excitation\n",
    "R = 10.0e-9  #radius of curvature of the parabolic tip apex\n",
    "startprint = 0.0\n",
    "simultime = 1200.0e-6 #total simulation time\n",
    "fo1 =20.0e3  #cantilever 1st mode resonance frequency\n",
    "omega = 2.0*np.pi*fo1\n",
    "period1 = 1.0/fo1  #fundamental period\n",
    "to =7.0*period1   #centered time of the sinc excitation\n",
    "fo2 = 6.27*fo1\n",
    "fo3 = 17.6*fo1\n",
    "Q1 = 2.0 #cantilever's 1st mode quality factor\n",
    "Q2 = 8.0\n",
    "Q3 = 12.0\n",
    "BW = 2.5*fo1*2.0  #excitation bandwith of sinc function\n",
    "k_m1 =  0.25 #cantilever's 1st mode stiffness\n",
    "zb = 3.85e-9  #cantilever equilibrium position\n",
    "period2 = 1.0/fo2\n",
    "period3 = 1.0/fo3\n",
    "dt= period3/1.0e4 #simulation timestep\n",
    "printstep = dt*10.0 #timestep in the saved time array"
   ]
  },
  {
   "cell_type": "markdown",
   "metadata": {},
   "source": [
    "## Interconversion of SLS parameters between Voigt and Maxwell configuration"
   ]
  },
  {
   "cell_type": "code",
   "execution_count": 2,
   "metadata": {
    "collapsed": true
   },
   "outputs": [],
   "source": [
    "nu = 0.3  #time independent Poisson's ratio\n",
    "G_v = 1.0e-1/(1.2*R)    #modulus of the spring in the Voigt unit that is in series with the upper spring\n",
    "\n",
    "Gg_v = 10.0e6 /(2*(1+nu))  #Glassy modulus in the Voigt-SLS configuration reported in the grid\n",
    "Jg = 1.0/Gg_v  #glassy compliance\n",
    "tau_v = 0.1/omega  #retardation time reported in simulation grid\n",
    "J = 1.0/G_v   #compliance of the spring in the Voigt unit that is in series with the upper spring\n",
    "eta = tau_v*G_v\n",
    "phi = 1.0/eta #fluidity of the dashpot in the Voigt unit that is in series with the upper spring\n",
    "Je = J+Jg\n",
    "\n",
    "# Now converting to the Maxwell SLS configuration: spring in parallel with Maxwell unit, note that these two models are mechanical analogs showing quantitatively the same behavior\n",
    "Ge = 1.0/(Je)\n",
    "G = J/(Jg*Je) \n",
    "Gg = (G+Ge)\n",
    "tau_m = tau_v*(Ge/Gg)\n",
    "eta = tau_m*G\n"
   ]
  },
  {
   "cell_type": "markdown",
   "metadata": {},
   "source": [
    "## Runing simulation with Lee and Radok formulation"
   ]
  },
  {
   "cell_type": "code",
   "execution_count": 3,
   "metadata": {
    "collapsed": true
   },
   "outputs": [],
   "source": [
    "sls_jit = jit()(SLS_parabolic_LR_sinc)\n",
    "\n",
    "zb = 3.85e-9  #cantilever equilibrium position\n",
    "t_lr, tip_lr, Fts_lr, xb_lr = sls_jit(A, to, BW, G, tau_m, R, dt, startprint, simultime, fo1, k_m1, zb, printstep, Ge, Q1, Q2, Q3, nu)\n"
   ]
  },
  {
   "cell_type": "markdown",
   "metadata": {},
   "source": [
    "## Runing simulation with Hertzian solution"
   ]
  },
  {
   "cell_type": "code",
   "execution_count": 4,
   "metadata": {
    "collapsed": true
   },
   "outputs": [],
   "source": [
    "hertz_jit = jit()(Hertzian_sinc)\n",
    "\n",
    "t_h, tp_h, Fts_h = hertz_jit(A, to, BW, Gg, R, dt, startprint, simultime, fo1, k_m1, zb, printstep, Q1, Q2, Q3, nu)"
   ]
  },
  {
   "cell_type": "markdown",
   "metadata": {},
   "source": [
    "## Runing simulation for the Method of dimensionality reduction (aligned with Ting's theory)"
   ]
  },
  {
   "cell_type": "code",
   "execution_count": 3,
   "metadata": {
    "collapsed": true
   },
   "outputs": [],
   "source": [
    "MDR_jit = jit()(MDR_SLS_sinc)\n",
    "t_m, tip_m, Fts_m, ca_m = MDR_jit(A, to, BW, G, tau_m, R, dt, startprint, simultime, fo1, k_m1, zb, printstep, Ge, Q1, Q2, Q3, nu, 1000, 10.0e-9)\n",
    "  "
   ]
  },
  {
   "cell_type": "markdown",
   "metadata": {},
   "source": [
    "## Comparing Lee and Radok with Ting's solution (obtained with MDR method)"
   ]
  },
  {
   "cell_type": "code",
   "execution_count": 8,
   "metadata": {},
   "outputs": [
    {
     "ename": "KeyboardInterrupt",
     "evalue": "",
     "output_type": "error",
     "traceback": [
      "\u001b[1;31m---------------------------------------------------------------------------\u001b[0m",
      "\u001b[1;31mKeyboardInterrupt\u001b[0m                         Traceback (most recent call last)",
      "\u001b[1;32m<ipython-input-8-0d08b445e01e>\u001b[0m in \u001b[0;36m<module>\u001b[1;34m()\u001b[0m\n\u001b[0;32m      4\u001b[0m \u001b[0mdt_lr\u001b[0m \u001b[1;33m=\u001b[0m \u001b[0mav_dt\u001b[0m\u001b[1;33m(\u001b[0m\u001b[0mt_lr\u001b[0m\u001b[1;33m)\u001b[0m\u001b[1;33m\u001b[0m\u001b[0m\n\u001b[0;32m      5\u001b[0m \u001b[1;33m\u001b[0m\u001b[0m\n\u001b[1;32m----> 6\u001b[1;33m \u001b[0mconv\u001b[0m \u001b[1;33m=\u001b[0m \u001b[0mnp\u001b[0m\u001b[1;33m.\u001b[0m\u001b[0mconvolve\u001b[0m\u001b[1;33m(\u001b[0m\u001b[0mG_rel\u001b[0m\u001b[1;33m,\u001b[0m \u001b[0mxb_dot\u001b[0m\u001b[1;33m,\u001b[0m \u001b[0mmode\u001b[0m\u001b[1;33m=\u001b[0m\u001b[1;34m'full'\u001b[0m\u001b[1;33m)\u001b[0m\u001b[1;33m*\u001b[0m\u001b[0mdt_lr\u001b[0m \u001b[1;31m#convolution of the relaxation modulus with the derivative of sample displacement\u001b[0m\u001b[1;33m\u001b[0m\u001b[0m\n\u001b[0m\u001b[0;32m      7\u001b[0m \u001b[0mconv\u001b[0m \u001b[1;33m=\u001b[0m \u001b[0mconv\u001b[0m\u001b[1;33m[\u001b[0m\u001b[1;33m:\u001b[0m\u001b[0mlen\u001b[0m\u001b[1;33m(\u001b[0m\u001b[0mxb_lr\u001b[0m\u001b[1;33m)\u001b[0m\u001b[1;33m]\u001b[0m\u001b[1;33m\u001b[0m\u001b[0m\n",
      "\u001b[1;32mC:\\Users\\Enrique Alejandro\\Miniconda2\\lib\\site-packages\\numpy\\core\\numeric.pyc\u001b[0m in \u001b[0;36mconvolve\u001b[1;34m(a, v, mode)\u001b[0m\n\u001b[0;32m   1071\u001b[0m         \u001b[1;32mraise\u001b[0m \u001b[0mValueError\u001b[0m\u001b[1;33m(\u001b[0m\u001b[1;34m'v cannot be empty'\u001b[0m\u001b[1;33m)\u001b[0m\u001b[1;33m\u001b[0m\u001b[0m\n\u001b[0;32m   1072\u001b[0m     \u001b[0mmode\u001b[0m \u001b[1;33m=\u001b[0m \u001b[0m_mode_from_name\u001b[0m\u001b[1;33m(\u001b[0m\u001b[0mmode\u001b[0m\u001b[1;33m)\u001b[0m\u001b[1;33m\u001b[0m\u001b[0m\n\u001b[1;32m-> 1073\u001b[1;33m     \u001b[1;32mreturn\u001b[0m \u001b[0mmultiarray\u001b[0m\u001b[1;33m.\u001b[0m\u001b[0mcorrelate\u001b[0m\u001b[1;33m(\u001b[0m\u001b[0ma\u001b[0m\u001b[1;33m,\u001b[0m \u001b[0mv\u001b[0m\u001b[1;33m[\u001b[0m\u001b[1;33m:\u001b[0m\u001b[1;33m:\u001b[0m\u001b[1;33m-\u001b[0m\u001b[1;36m1\u001b[0m\u001b[1;33m]\u001b[0m\u001b[1;33m,\u001b[0m \u001b[0mmode\u001b[0m\u001b[1;33m)\u001b[0m\u001b[1;33m\u001b[0m\u001b[0m\n\u001b[0m\u001b[0;32m   1074\u001b[0m \u001b[1;33m\u001b[0m\u001b[0m\n\u001b[0;32m   1075\u001b[0m \u001b[1;33m\u001b[0m\u001b[0m\n",
      "\u001b[1;31mKeyboardInterrupt\u001b[0m: "
     ]
    }
   ],
   "source": [
    "xb_dot = derivative_cd((-xb_lr)**1.5, t_lr)  #derivative of the sample displacement\n",
    "G_rel = np.zeros(len(t_lr))\n",
    "G_rel = Ge + G*np.exp(-t_lr/tau_m)   #relaxation modulus of the SLS model\n",
    "dt_lr = av_dt(t_lr)\n",
    "\n",
    "conv = np.convolve(G_rel, xb_dot, mode='full')*dt_lr #convolution of the relaxation modulus with the derivative of sample displacement\n",
    "conv = conv[:len(xb_lr)]\n"
   ]
  },
  {
   "cell_type": "code",
   "execution_count": 9,
   "metadata": {},
   "outputs": [
    {
     "data": {
      "text/plain": [
       "<matplotlib.legend.Legend at 0x10eab518>"
      ]
     },
     "execution_count": 9,
     "metadata": {},
     "output_type": "execute_result"
    },
    {
     "data": {
      "image/png": "[encoded data removed]",
      "text/plain": [
       "<matplotlib.figure.Figure at 0xa6b9320>"
      ]
     },
     "metadata": {},
     "output_type": "display_data"
    }
   ],
   "source": [
    "plt.plot((tip_lr - zb)*1.0e9, Fts_lr, 'y', lw=5, label = 'python-LR')\n",
    "plt.plot( (tip_m-zb)*1.0e9, Fts_m, 'b', lw=4, label = 'MDR' )\n",
    "alfa = 8.0/3.0*np.sqrt(R)/(1.0-nu)\n",
    "#plt.plot((tip_lr - zb)*1.0e9, conv*alfa, 'r', lw=1.0, label='convolution-LR')\n",
    "plt.plot((tp_h-zb)*1.0e9, Fts_h, 'g--', lw=2.0, label = 'Hertz')\n",
    "plt.xlim(-5,-2)\n",
    "plt.legend(loc=1)"
   ]
  },
  {
   "cell_type": "code",
   "execution_count": null,
   "metadata": {
    "collapsed": true
   },
   "outputs": [],
   "source": []
  }
 ],
 "metadata": {
  "kernelspec": {
   "display_name": "Python 2",
   "language": "python",
   "name": "python2"
  },
  "language_info": {
   "codemirror_mode": {
    "name": "ipython",
    "version": 2
   },
   "file_extension": ".py",
   "mimetype": "text/x-python",
   "name": "python",
   "nbconvert_exporter": "python",
   "pygments_lexer": "ipython2",
   "version": "2.7.13"
  }
 },
 "nbformat": 4,
 "nbformat_minor": 2
}
