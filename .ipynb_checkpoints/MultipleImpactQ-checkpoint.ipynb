{
 "cells": [
  {
   "cell_type": "code",
   "execution_count": 11,
   "metadata": {
    "collapsed": true
   },
   "outputs": [],
   "source": [
    "import numpy as np\n",
    "from numba import jit\n",
    "from AFM_sinc import MDR_SLS_sinc, SLS_parabolic_LR_sinc, Hertzian_sinc\n",
    "import matplotlib.pyplot as plt\n",
    "from AFM_calculations import derivative_cd, av_dt\n",
    "%matplotlib inline\n",
    "\n",
    "\n",
    "A = -1.36e-9  #amplitude of the sinc excitation\n",
    "R = 10.0e-9  #radius of curvature of the parabolic tip apex\n",
    "startprint = 0.0\n",
    "simultime = 1200.0e-6 #total simulation time\n",
    "fo1 =20.0e3  #cantilever 1st mode resonance frequency\n",
    "omega = 2.0*np.pi*fo1\n",
    "period1 = 1.0/fo1  #fundamental period\n",
    "to =7.0*period1   #centered time of the sinc excitation\n",
    "fo2 = 6.27*fo1\n",
    "fo3 = 17.6*fo1\n",
    "Q1 = 2.0 #cantilever's 1st mode quality factor\n",
    "Q2 = 8.0\n",
    "Q3 = 12.0\n",
    "BW = 2.5*fo1*2.0  #excitation bandwith of sinc function\n",
    "k_m1 =  0.25 #cantilever's 1st mode stiffness\n",
    "zb = 4.0e-9  #cantilever equilibrium position\n",
    "period2 = 1.0/fo2\n",
    "period3 = 1.0/fo3\n",
    "dt= period3/1.0e4 #simulation timestep\n",
    "printstep = dt*10.0 #timestep in the saved time array"
   ]
  },
  {
   "cell_type": "code",
   "execution_count": 12,
   "metadata": {
    "collapsed": true
   },
   "outputs": [],
   "source": [
    "nu = 0.5  #time independent Poisson's ratio\n",
    "G_v = 1.0e-1/(1.2*R)    #modulus of the spring in the Voigt unit that is in series with the upper spring\n",
    "\n",
    "Gg_v = 10.0e9 /(2*(1+nu))  #Glassy modulus in the Voigt-SLS configuration reported in the grid\n",
    "Jg = 1.0/Gg_v  #glassy compliance\n",
    "tau_v = 10.0/omega  #retardation time reported in simulation grid\n",
    "J = 1.0/G_v   #compliance of the spring in the Voigt unit that is in series with the upper spring\n",
    "eta = tau_v*G_v\n",
    "phi = 1.0/eta #fluidity of the dashpot in the Voigt unit that is in series with the upper spring\n",
    "Je = J+Jg\n",
    "\n",
    "# Now converting to the Maxwell SLS configuration: spring in parallel with Maxwell unit, note that these two models are mechanical analogs showing quantitatively the same behavior\n",
    "Ge = 1.0/(Je)\n",
    "G = J/(Jg*Je) \n",
    "Gg = (G+Ge)\n",
    "tau_m = tau_v*(Ge/Gg)\n",
    "eta = tau_m*G\n"
   ]
  },
  {
   "cell_type": "code",
   "execution_count": 13,
   "metadata": {
    "collapsed": true
   },
   "outputs": [],
   "source": [
    "hertz_jit = jit()(Hertzian_sinc)\n",
    "t_h, tip_h, Fts_h = hertz_jit(A, to, BW, Gg, R, dt, startprint, simultime, fo1, k_m1, zb, printstep, Q1, Q2, Q3, nu)"
   ]
  },
  {
   "cell_type": "code",
   "execution_count": 14,
   "metadata": {},
   "outputs": [
    {
     "data": {
      "text/plain": [
       "(-0.5, 0.0)"
      ]
     },
     "execution_count": 14,
     "metadata": {},
     "output_type": "execute_result"
    },
    {
     "data": {
      "image/png": "[encoded data removed]",
      "text/plain": [
       "<matplotlib.figure.Figure at 0xa76c7f0>"
      ]
     },
     "metadata": {},
     "output_type": "display_data"
    }
   ],
   "source": [
    "plt.plot( (t_h-to)*1.0e3, tip_h*1.0e9)\n",
    "plt.xlim(0,0.02)\n",
    "plt.ylim(-0.5,0.0)"
   ]
  },
  {
   "cell_type": "code",
   "execution_count": null,
   "metadata": {
    "collapsed": true
   },
   "outputs": [],
   "source": []
  }
 ],
 "metadata": {
  "kernelspec": {
   "display_name": "Python 2",
   "language": "python",
   "name": "python2"
  },
  "language_info": {
   "codemirror_mode": {
    "name": "ipython",
    "version": 2
   },
   "file_extension": ".py",
   "mimetype": "text/x-python",
   "name": "python",
   "nbconvert_exporter": "python",
   "pygments_lexer": "ipython2",
   "version": "2.7.13"
  }
 },
 "nbformat": 4,
 "nbformat_minor": 2
}
