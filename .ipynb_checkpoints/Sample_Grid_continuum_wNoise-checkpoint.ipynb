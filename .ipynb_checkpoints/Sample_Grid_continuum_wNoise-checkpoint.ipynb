{
 "cells": [
  {
   "cell_type": "code",
   "execution_count": null,
   "metadata": {
    "collapsed": true
   },
   "outputs": [],
   "source": [
    "import numpy as np\n",
    "from numba import jit\n",
    "from AFM_sinc import MDR_SLS_sinc, MDR_SLS_sinc_noise\n",
    "import matplotlib.pyplot as plt\n",
    "%matplotlib inline\n",
    "import pandas as pd\n",
    "\n",
    "import os\n",
    "\n",
    "path = os.getcwd()"
   ]
  },
  {
   "cell_type": "markdown",
   "metadata": {},
   "source": [
    "## Cantilever and simulation parameters"
   ]
  },
  {
   "cell_type": "code",
   "execution_count": 2,
   "metadata": {
    "collapsed": true
   },
   "outputs": [],
   "source": [
    "R = 10.0e-9  #radius of curvature of the parabolic tip apex\n",
    "startprint = 0.0\n",
    "simultime = 1200.0e-6 #total simulation time\n",
    "fo1 =20.0e3  #cantilever 1st mode resonance frequency\n",
    "omega = 2.0*np.pi*fo1\n",
    "period1 = 1.0/fo1  #fundamental period\n",
    "to =7.0*period1   #centered time of the sinc excitation\n",
    "fo2 = 6.27*fo1\n",
    "fo3 = 17.6*fo1\n",
    "Q1 = 2.0 #cantilever's 1st mode quality factor\n",
    "Q2 = 8.0\n",
    "Q3 = 12.0\n",
    "BW = 2.5*fo1*2.0  #excitation bandwith of sinc function\n",
    "k_m1 =  0.25 #cantilever's 1st mode stiffness\n",
    "\n",
    "period2 = 1.0/fo2\n",
    "period3 = 1.0/fo3\n",
    "dt= period3/1.0e4 #simulation timestep\n",
    "printstep = period3/100.0 #timestep in the saved time array"
   ]
  },
  {
   "cell_type": "markdown",
   "metadata": {},
   "source": [
    "## Sample Parameters, SLS-Voigt configuration"
   ]
  },
  {
   "cell_type": "code",
   "execution_count": 3,
   "metadata": {
    "collapsed": true
   },
   "outputs": [],
   "source": [
    "nu = 0.3\n",
    "Gg_v = np.array([1.0e6,10.0e6,100.0e6,1.0e9,10.0e9])/(2*(1+nu)) #Glassy modulus in the Voigt-SLS configuration reported in the grid\n",
    "tau_v = np.array([0.01/omega, 0.1/omega, 1.0/omega, 10.0/omega, 100.0/omega]) #retardation time reported in simulation grid\n",
    "G_v = 1.0e-1/(1.2*R) #modulus of the spring in the Voigt unit that is in series with the upper spring\n",
    "Jg = 1.0/Gg_v #glassy compliance\n",
    "J = 1.0/G_v #compliance of the spring in the Voigt unit that is in series with the upper spring\n",
    "Je = J+Jg  #equilibrium compliance of the SLS-VOigt model"
   ]
  },
  {
   "cell_type": "markdown",
   "metadata": {},
   "source": [
    "## Continuum simulations with the method of dimensionality reduction (No noise)"
   ]
  },
  {
   "cell_type": "code",
   "execution_count": null,
   "metadata": {
    "collapsed": true
   },
   "outputs": [],
   "source": [
    "os.chdir(path + '/NoNoise')\n",
    "print os.getcwd()\n",
    "\n",
    "A = -13.6e-9 #amplitude of the sinc excitation\n",
    "zb = 15.0e-9  #cantilever equilibrium position\n",
    "np.savetxt('Simul_parameters.txt', np.array([zb*1.0e9, A*1.0e9, fo1*1.0e-3, k_m1, Q1]), header = 'Zb(nm)\\tAmp(nm)\\tfo1(kHz)\\tQ1', delimiter = '\\t')"
   ]
  },
  {
   "cell_type": "code",
   "execution_count": null,
   "metadata": {
    "collapsed": true
   },
   "outputs": [],
   "source": [
    "MDR_jit = jit()(MDR_SLS_sinc)\n",
    "\n",
    "A = -13.6e-9 #amplitude of the sinc excitation\n",
    "zb = 15.0e-9  #cantilever equilibrium position\n",
    "\n",
    "dmax = 5.0e-9\n",
    "Ndy = 1000\n",
    "dt = period3/1.0e4\n",
    "printstep = period3/1.0e2\n",
    "\n",
    "for i in range(len(Gg_v)):\n",
    "    for j in range(len(tau_v)):\n",
    "        #Transfering to SLS-Maxwell configuration for the MDR algorithm\n",
    "        Ge = 1.0/(Je[i])\n",
    "        G = J/(Jg[i]*Je[i]) \n",
    "        Gg = (G+Ge)\n",
    "        tau_m = tau_v[j]*(Ge/Gg)          \n",
    "        G_mpa = G/1.0e6\n",
    "        Ge_mpa = Ge/1.0e6\n",
    "        tau_us = tau_m*1.0e6\n",
    "        print('G: %.3f MPa, Ge: %.3f MPa, tau: %.5f us'%(G_mpa, Ge_mpa, tau_us))\n",
    "        %time t_m, tip_m, Fts_m, ca_m, sample_m, Fsinc_m, z1_m, z2_m, z3_m = MDR_jit(A, to, BW, G, tau_m, R, dt, startprint, simultime, fo1, k_m1, zb, printstep, Ge, Q1, Q2, Q3, nu, Ndy,dmax)\n",
    "        np.savetxt('Continuum_Gg%d_tau%d.txt'%(i+1,j+1), np.array((t_m-to, Fts_m, Fsinc_m, z1_m, z2_m, z3_m)).T, header = 'time(s)\\tFts(N)\\tSinc_Force(N)\\tz1(m)\\tz2(m)\\tz3(m)', delimiter = '\\t')\n",
    "        print('Continuum_Gg%d_tau%d.txt'%(i+1,j+1))"
   ]
  },
  {
   "cell_type": "markdown",
   "metadata": {},
   "source": [
    "## Continuum simulations MDR with thermal noise included"
   ]
  },
  {
   "cell_type": "code",
   "execution_count": 4,
   "metadata": {},
   "outputs": [],
   "source": [
    "from AFM_sinc import MDR_SLS_sinc_noise, brownian_noise\n",
    "\n",
    "Temp = 273.16 + 25\n",
    "dt = period3/1.0e4\n",
    "printstep = period3/1.0e4\n",
    "Fb1, Fb2, Fb3, _ = brownian_noise(Temp, fo1, k_m1, Q1, dt, simultime)\n"
   ]
  },
  {
   "cell_type": "code",
   "execution_count": 5,
   "metadata": {},
   "outputs": [
    {
     "name": "stdout",
     "output_type": "stream",
     "text": [
      "C:\\Users\\Enrique Alejandro\\Mis documentos\\github\\SingleImpact_simulations\\Noise\n"
     ]
    }
   ],
   "source": [
    "os.chdir(path + '/Noise')\n",
    "print os.getcwd()\n",
    "\n",
    "\n",
    "A = -13.6e-9 #amplitude of the sinc excitation\n",
    "zb = 15.0e-9  #cantilever equilibrium position\n",
    "\n",
    "np.savetxt('Simul_parameters.txt', np.array([zb*1.0e9, A*1.0e9, fo1*1.0e-3, k_m1, Q1]), header = 'Zb(nm)\\tAmp(nm)\\tfo1(kHz)\\tQ1', delimiter = '\\t')"
   ]
  },
  {
   "cell_type": "code",
   "execution_count": 6,
   "metadata": {},
   "outputs": [
    {
     "name": "stdout",
     "output_type": "stream",
     "text": [
      "G: 0.017 MPa, Ge: 0.368 MPa, tau: 0.07607 us\n",
      "Wall time: 22min 3s\n"
     ]
    },
    {
     "ename": "NameError",
     "evalue": "name 't_m' is not defined",
     "output_type": "error",
     "traceback": [
      "\u001b[1;31m---------------------------------------------------------------------------\u001b[0m",
      "\u001b[1;31mNameError\u001b[0m                                 Traceback (most recent call last)",
      "\u001b[1;32m<ipython-input-6-d093ffef21e1>\u001b[0m in \u001b[0;36m<module>\u001b[1;34m()\u001b[0m\n\u001b[0;32m     20\u001b[0m         \u001b[1;32mprint\u001b[0m\u001b[1;33m(\u001b[0m\u001b[1;34m'G: %.3f MPa, Ge: %.3f MPa, tau: %.5f us'\u001b[0m\u001b[1;33m%\u001b[0m\u001b[1;33m(\u001b[0m\u001b[0mG_mpa\u001b[0m\u001b[1;33m,\u001b[0m \u001b[0mGe_mpa\u001b[0m\u001b[1;33m,\u001b[0m \u001b[0mtau_us\u001b[0m\u001b[1;33m)\u001b[0m\u001b[1;33m)\u001b[0m\u001b[1;33m\u001b[0m\u001b[0m\n\u001b[0;32m     21\u001b[0m         \u001b[0mget_ipython\u001b[0m\u001b[1;33m(\u001b[0m\u001b[1;33m)\u001b[0m\u001b[1;33m.\u001b[0m\u001b[0mmagic\u001b[0m\u001b[1;33m(\u001b[0m\u001b[1;34mu'time t, tip, Fts, ca, sample, Fsinc, z1, z2, z3 = mdr_jit(A, to , BW, G, tau_m, R, dt, startprint, simultime, fo1, k_m1, zb, Fb1, Fb2, Fb3, printstep, Ge, Q1, Q2, Q3, nu, Ndy, dmax, Temp)'\u001b[0m\u001b[1;33m)\u001b[0m\u001b[1;33m\u001b[0m\u001b[0m\n\u001b[1;32m---> 22\u001b[1;33m         \u001b[0mnp\u001b[0m\u001b[1;33m.\u001b[0m\u001b[0msavetxt\u001b[0m\u001b[1;33m(\u001b[0m\u001b[1;34m'wNoise_Gg%d_tau%d.txt'\u001b[0m\u001b[1;33m%\u001b[0m\u001b[1;33m(\u001b[0m\u001b[0mi\u001b[0m\u001b[1;33m+\u001b[0m\u001b[1;36m1\u001b[0m\u001b[1;33m,\u001b[0m\u001b[0mj\u001b[0m\u001b[1;33m+\u001b[0m\u001b[1;36m1\u001b[0m\u001b[1;33m)\u001b[0m\u001b[1;33m,\u001b[0m \u001b[0mnp\u001b[0m\u001b[1;33m.\u001b[0m\u001b[0marray\u001b[0m\u001b[1;33m(\u001b[0m\u001b[1;33m(\u001b[0m\u001b[0mt_m\u001b[0m\u001b[1;33m-\u001b[0m\u001b[0mto\u001b[0m\u001b[1;33m,\u001b[0m \u001b[0mFts_m\u001b[0m\u001b[1;33m,\u001b[0m \u001b[0mFsinc_m\u001b[0m\u001b[1;33m,\u001b[0m \u001b[0mz1_m\u001b[0m\u001b[1;33m,\u001b[0m \u001b[0mz2_m\u001b[0m\u001b[1;33m,\u001b[0m \u001b[0mz3_m\u001b[0m\u001b[1;33m)\u001b[0m\u001b[1;33m)\u001b[0m\u001b[1;33m.\u001b[0m\u001b[0mT\u001b[0m\u001b[1;33m,\u001b[0m \u001b[0mheader\u001b[0m \u001b[1;33m=\u001b[0m \u001b[1;34m'time(s)\\tFts(N)\\tSinc_Force(N)\\tz1(m)\\tz2(m)\\tz3(m)'\u001b[0m\u001b[1;33m,\u001b[0m \u001b[0mdelimiter\u001b[0m \u001b[1;33m=\u001b[0m \u001b[1;34m'\\t'\u001b[0m\u001b[1;33m)\u001b[0m\u001b[1;33m\u001b[0m\u001b[0m\n\u001b[0m\u001b[0;32m     23\u001b[0m         \u001b[1;32mprint\u001b[0m\u001b[1;33m(\u001b[0m\u001b[1;34m'wNoise_Gg%d_tau%d.txt'\u001b[0m\u001b[1;33m%\u001b[0m\u001b[1;33m(\u001b[0m\u001b[0mi\u001b[0m\u001b[1;33m+\u001b[0m\u001b[1;36m1\u001b[0m\u001b[1;33m,\u001b[0m\u001b[0mj\u001b[0m\u001b[1;33m+\u001b[0m\u001b[1;36m1\u001b[0m\u001b[1;33m)\u001b[0m\u001b[1;33m)\u001b[0m\u001b[1;33m\u001b[0m\u001b[0m\n",
      "\u001b[1;31mNameError\u001b[0m: name 't_m' is not defined"
     ]
    }
   ],
   "source": [
    "mdr_jit = jit()(MDR_SLS_sinc_noise)\n",
    "\n",
    "A = -13.6e-9 #amplitude of the sinc excitation\n",
    "zb = 15.0e-9  #cantilever equilibrium position\n",
    "\n",
    "dmax = 1.0e-9\n",
    "Ndy = 1000\n",
    "\n",
    "\n",
    "for i in range(len(Gg_v)):\n",
    "    for j in range(len(tau_v)):\n",
    "        #Transfering to SLS-Maxwell configuration for the MDR algorithm\n",
    "        Ge = 1.0/(Je[i])\n",
    "        G = J/(Jg[i]*Je[i]) \n",
    "        Gg = (G+Ge)\n",
    "        tau_m = tau_v[j]*(Ge/Gg)          \n",
    "        G_mpa = G/1.0e6\n",
    "        Ge_mpa = Ge/1.0e6\n",
    "        tau_us = tau_m*1.0e6\n",
    "        print('G: %.3f MPa, Ge: %.3f MPa, tau: %.5f us'%(G_mpa, Ge_mpa, tau_us))\n",
    "        %time t, tip, Fts, ca, sample, Fsinc, z1, z2, z3 = mdr_jit(A, to , BW, G, tau_m, R, dt, startprint, simultime, fo1, k_m1, zb, Fb1, Fb2, Fb3, printstep, Ge, Q1, Q2, Q3, nu, Ndy, dmax, Temp)\n",
    "        np.savetxt('wNoise_Gg%d_tau%d.txt'%(i+1,j+1), np.array((t-to, Fts, Fsinc, z1, z2, z3)).T, header = 'time(s)\\tFts(N)\\tSinc_Force(N)\\tz1(m)\\tz2(m)\\tz3(m)', delimiter = '\\t')\n",
    "        print('wNoise_Gg%d_tau%d.txt'%(i+1,j+1))\n"
   ]
  },
  {
   "cell_type": "code",
   "execution_count": null,
   "metadata": {
    "collapsed": true
   },
   "outputs": [],
   "source": []
  }
 ],
 "metadata": {
  "kernelspec": {
   "display_name": "Python 2",
   "language": "python",
   "name": "python2"
  },
  "language_info": {
   "codemirror_mode": {
    "name": "ipython",
    "version": 2
   },
   "file_extension": ".py",
   "mimetype": "text/x-python",
   "name": "python",
   "nbconvert_exporter": "python",
   "pygments_lexer": "ipython2",
   "version": "2.7.13"
  }
 },
 "nbformat": 4,
 "nbformat_minor": 2
}
