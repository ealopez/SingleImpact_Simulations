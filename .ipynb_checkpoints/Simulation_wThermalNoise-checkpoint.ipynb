{
 "cells": [
  {
   "cell_type": "code",
   "execution_count": 1,
   "metadata": {
    "collapsed": true
   },
   "outputs": [],
   "source": [
    "import numpy as np\n",
    "from numba import jit\n",
    "from AFM_sinc import MDR_SLS_sinc\n",
    "import matplotlib.pyplot as plt\n",
    "%matplotlib inline\n",
    "import pandas as pd"
   ]
  },
  {
   "cell_type": "markdown",
   "metadata": {},
   "source": [
    "## Cantilever and simulation parameters"
   ]
  },
  {
   "cell_type": "code",
   "execution_count": 2,
   "metadata": {
    "collapsed": true
   },
   "outputs": [],
   "source": [
    "A = -1.36e-9  #amplitude of the sinc excitation\n",
    "R = 10.0e-9  #radius of curvature of the parabolic tip apex\n",
    "startprint = 0.0\n",
    "simultime = 1200.0e-6 #total simulation time\n",
    "fo1 =20.0e3  #cantilever 1st mode resonance frequency\n",
    "omega = 2.0*np.pi*fo1\n",
    "period1 = 1.0/fo1  #fundamental period\n",
    "to =7.0*period1   #centered time of the sinc excitation\n",
    "fo2 = 6.27*fo1\n",
    "fo3 = 17.6*fo1\n",
    "Q1 = 2.0 #cantilever's 1st mode quality factor\n",
    "Q2 = 8.0\n",
    "Q3 = 12.0\n",
    "BW = 2.5*fo1*2.0  #excitation bandwith of sinc function\n",
    "k_m1 =  0.25 #cantilever's 1st mode stiffness\n",
    "zb = 3.85e-9  #cantilever equilibrium position\n",
    "period2 = 1.0/fo2\n",
    "period3 = 1.0/fo3\n",
    "dt= period3/1.0e4 #simulation timestep\n",
    "printstep = period3/100.0 #timestep in the saved time array"
   ]
  },
  {
   "cell_type": "markdown",
   "metadata": {},
   "source": [
    "## Sample Parameters, SLS-Voigt configuration"
   ]
  },
  {
   "cell_type": "code",
   "execution_count": 3,
   "metadata": {
    "collapsed": true
   },
   "outputs": [],
   "source": [
    "nu = 0.3\n",
    "Gg_v = np.array([1.0e6,10.0e6,100.0e6,1.0e9,10.0e9])/(2*(1+nu)) #Glassy modulus in the Voigt-SLS configuration reported in the grid\n",
    "tau_v = np.array([0.01/omega, 0.1/omega, 1.0/omega, 10.0/omega, 100.0/omega]) #retardation time reported in simulation grid\n",
    "G_v = 1.0e-1/(1.2*R) #modulus of the spring in the Voigt unit that is in series with the upper spring\n",
    "Jg = 1.0/Gg_v #glassy compliance\n",
    "J = 1.0/G_v #compliance of the spring in the Voigt unit that is in series with the upper spring\n",
    "Je = J+Jg  #equilibrium compliance of the SLS-VOigt model"
   ]
  },
  {
   "cell_type": "markdown",
   "metadata": {},
   "source": [
    "## Continuum simulations with the method of dimensionality reduction by Popov and Hess"
   ]
  },
  {
   "cell_type": "code",
   "execution_count": null,
   "metadata": {},
   "outputs": [
    {
     "name": "stdout",
     "output_type": "stream",
     "text": [
      "G: 0.017 MPa, Ge: 0.368 MPa, tau: 0.07607 us\n"
     ]
    }
   ],
   "source": [
    "MDR_jit = jit()(MDR_SLS_sinc)\n",
    "\n",
    "dmax = 5.0e-9\n",
    "Ndy = 1000\n",
    "dt = period3/1.0e4\n",
    "printstep = period3/1.0e2\n",
    "\n",
    "for i in range(len(Gg_v)):\n",
    "    for j in range(len(tau_v)):\n",
    "        #Transfering to SLS-Maxwell configuration for the MDR algorithm\n",
    "        Ge = 1.0/(Je[i])\n",
    "        G = J/(Jg[i]*Je[i]) \n",
    "        Gg = (G+Ge)\n",
    "        tau_m = tau_v[j]*(Ge/Gg)          \n",
    "        G_mpa = G/1.0e6\n",
    "        Ge_mpa = Ge/1.0e6\n",
    "        tau_us = tau_m*1.0e6\n",
    "        print('G: %.3f MPa, Ge: %.3f MPa, tau: %.5f us'%(G_mpa, Ge_mpa, tau_us))\n",
    "        %time t_m, tip_m, Fts_m, ca_m, sample_m, Fsinc_m, z1_m, z2_m, z3_m = MDR_jit(A, to, BW, G, tau_m, R, dt, startprint, simultime, fo1, k_m1, zb, printstep, Ge, Q1, Q2, Q3, nu, Ndy,dmax)\n",
    "        np.savetxt('Continuum_Gg%d_tau%d.txt'%(i+1,j+1), np.array((t_m-to, Fts_m, Fsinc_m, z1_m, z2_m, z3_m)).T, header = 'time(s)\\tFts(N)\\tSinc_Force(N)\\tz1(m)\\tz2(m)\\tz3(m)', delimiter = '\\t')\n",
    "        print('Continuum_Gg%d_tau%d.txt'%(i+1,j+1))"
   ]
  },
  {
   "cell_type": "markdown",
   "metadata": {},
   "source": [
    "## Comparing to NL3P simulations"
   ]
  },
  {
   "cell_type": "code",
   "execution_count": null,
   "metadata": {
    "collapsed": true
   },
   "outputs": [],
   "source": [
    "import os\n",
    "\n",
    "path = 'C:/Users/Enrique Alejandro/Desktop/2017 11 15 draft resubmission/SimulationsSciRep/Debug'\n",
    "os.chdir(path)\n",
    "res_m = pd.read_csv('Continuum_Gg2_tau3.txt', delimiter ='\\t')\n",
    "t_m = res_m.iloc[:,0].values\n",
    "fts_m = res_m.iloc[:,1].values\n",
    "sinc_m = res_m.iloc[:,2].values\n",
    "z1_m = res_m.iloc[:,3].values\n",
    "z2_m = res_m.iloc[:,4].values\n",
    "z3_m = res_m.iloc[:,5].values\n"
   ]
  },
  {
   "cell_type": "code",
   "execution_count": null,
   "metadata": {
    "collapsed": true
   },
   "outputs": [],
   "source": [
    "os.chdir(path+'/NL3P')\n",
    "res = pd.read_csv('FDcurve_10MPa_tau3.txt', delimiter ='\\t')\n",
    "t_c = res.iloc[:,0].values\n",
    "fts_c = res.iloc[:,1].values\n",
    "sinc_c = res.iloc[:,2].values\n",
    "z1_c = res.iloc[:,3].values\n",
    "z2_c = res.iloc[:,4].values\n",
    "z3_c = res.iloc[:,5].values\n",
    "\n",
    "\n",
    "plt.plot((t_c-to)*1.0e3, fts_c, 'y', lw = 5, label = 'Fts_c')\n",
    "plt.plot(t_m*1.0e3, fts_m, 'b--', lw = 3, label = 'Fts_mdr')\n",
    "plt.xlim(0.0,0.03)\n",
    "plt.legend(loc=3)\n",
    "\n"
   ]
  },
  {
   "cell_type": "code",
   "execution_count": null,
   "metadata": {
    "collapsed": true
   },
   "outputs": [],
   "source": [
    "plt.plot( (z1_m+z2_m+z3_m)*1.0e9, fts_m, 'b--', lw = 3, label = 'Fts_mdr')\n",
    "plt.plot((z1_c+z2_c+z3_c)*1.0e9, fts_c, 'c', label='NL3P')\n",
    "plt.xlim(-5,-2)\n",
    "plt.legend(loc=1)"
   ]
  },
  {
   "cell_type": "markdown",
   "metadata": {},
   "source": [
    "## Tests"
   ]
  },
  {
   "cell_type": "code",
   "execution_count": null,
   "metadata": {
    "collapsed": true
   },
   "outputs": [],
   "source": [
    "nu = 0.3  #time independent Poisson's ratio\n",
    "G_v = 1.0e-1/(1.2*R)    #modulus of the spring in the Voigt unit that is in series with the upper spring\n",
    "Gg_v = 10.0e9 /(2*(1+nu))  #Glassy modulus in the Voigt-SLS configuration reported in the grid\n",
    "tau_v = 10.0/omega  #retardation time reported in simulation grid\n",
    "\n",
    "\n",
    "Jg = 1.0/Gg_v  #glassy compliance\n",
    "J = 1.0/G_v   #compliance of the spring in the Voigt unit that is in series with the upper spring\n",
    "Je = J+Jg\n",
    "\n",
    "# Now converting to the Maxwell SLS configuration: spring in parallel with Maxwell unit, note that these two models are mechanical analogs showing quantitatively the same behavior\n",
    "Ge = 1.0/(Je)\n",
    "G = J/(Jg*Je) \n",
    "Gg = (G+Ge)\n",
    "tau_m = tau_v*(Ge/Gg)\n",
    "\n",
    "\n",
    "G_mpa = G/1.0e6\n",
    "Ge_mpa = Ge/1.0e6\n",
    "tau_us = tau_m*1.0e6\n",
    "print('G: %.3f MPa, Ge: %.3f MPa, tau: %.5f us'%(G_mpa, Ge_mpa, tau_us))\n",
    "\n",
    "dmax = 10.0e-9\n",
    "Ndy = 1000\n",
    "dt = period3/1.0e3\n",
    "printstep = period3/1.0e3\n",
    "MDR_jit = jit()(MDR_SLS_sinc)\n",
    "%time t_m, tip_m, Fts_m, ca_m, sample_m, Fsinc_m, z1_m, z2_m, z3_m = MDR_jit(A, to, BW, G, tau_m, R, dt, startprint, simultime, fo1, k_m1, zb, printstep, Ge, Q1, Q2, Q3, nu, Ndy, dmax)\n"
   ]
  },
  {
   "cell_type": "code",
   "execution_count": null,
   "metadata": {
    "collapsed": true
   },
   "outputs": [],
   "source": [
    "plt.plot((t_c-to)*1.0e3, fts_c, 'y', lw = 5, label = 'Fts_c')\n",
    "plt.plot( (t_m-to)*1.0e3, Fts_m, 'b--', lw = 3, label = 'Fts_mdr')\n",
    "plt.xlim(0.0,0.03)\n",
    "plt.legend(loc=3)"
   ]
  },
  {
   "cell_type": "markdown",
   "metadata": {},
   "source": [
    "## Numerical convolution"
   ]
  },
  {
   "cell_type": "code",
   "execution_count": null,
   "metadata": {
    "collapsed": true
   },
   "outputs": [],
   "source": [
    "path = 'C:/Users/Enrique Alejandro/Desktop/2017 11 15 draft resubmission/SimulationsSciRep/Debug'\n",
    "os.chdir(path)\n",
    "\n",
    "from AFM_calculations import derivative_cd, av_dt\n",
    "\n",
    "xb_dot = derivative_cd((-sample_m)**1.5, t_m)  #derivative of the sample displacement\n",
    "G_rel = np.zeros(len(t_m))\n",
    "G_rel = Ge + G*np.exp(-t_m/tau_m)   #relaxation modulus of the SLS model\n",
    "dt_m = av_dt(t_m)\n",
    "\n",
    "conv = np.convolve(G_rel, xb_dot, mode='full')*dt_m #convolution of the relaxation modulus with the derivative of sample displacement\n",
    "conv = conv[:len(sample_m)]"
   ]
  },
  {
   "cell_type": "code",
   "execution_count": null,
   "metadata": {
    "collapsed": true
   },
   "outputs": [],
   "source": [
    "alfa = 8.0/3.0*np.sqrt(R)/(1.0-nu)\n",
    "plt.plot( (tip_m-zb)*1.0e9, Fts_m, 'b--', lw = 3, label = 'Fts_mdr')\n",
    "plt.plot((tip_m - zb)*1.0e9, conv*alfa, 'r', lw=1.0, label='convolution-LR')\n",
    "plt.plot((z1_c+z2_c+z3_c)*1.0e9, fts_c, 'c', label='NL3P')\n",
    "plt.xlim(-5,-2)\n",
    "plt.legend(loc=1)"
   ]
  },
  {
   "cell_type": "code",
   "execution_count": null,
   "metadata": {
    "collapsed": true
   },
   "outputs": [],
   "source": [
    "plt.plot( (t_m-to)*1.0e3, Fts_m, 'b--', lw = 3, label = 'Fts_mdr')\n",
    "plt.plot((t_m - to)*1.0e3, conv*alfa, 'r', lw=1.0, label='convolution-LR')\n",
    "plt.plot((t_c-to)*1.0e3, fts_c, 'c', label='NL3P')\n",
    "plt.xlim(0,0.02)\n",
    "plt.legend(loc=1)"
   ]
  },
  {
   "cell_type": "code",
   "execution_count": null,
   "metadata": {
    "collapsed": true
   },
   "outputs": [],
   "source": []
  }
 ],
 "metadata": {
  "kernelspec": {
   "display_name": "Python 2",
   "language": "python",
   "name": "python2"
  },
  "language_info": {
   "codemirror_mode": {
    "name": "ipython",
    "version": 2
   },
   "file_extension": ".py",
   "mimetype": "text/x-python",
   "name": "python",
   "nbconvert_exporter": "python",
   "pygments_lexer": "ipython2",
   "version": "2.7.13"
  }
 },
 "nbformat": 4,
 "nbformat_minor": 2
}
