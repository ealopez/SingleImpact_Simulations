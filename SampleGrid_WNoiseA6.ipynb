{
 "cells": [
  {
   "cell_type": "code",
   "execution_count": 1,
   "metadata": {
    "collapsed": true
   },
   "outputs": [],
   "source": [
    "import numpy as np\n",
    "from numba import jit\n",
    "import matplotlib.pyplot as plt\n",
    "%matplotlib inline\n",
    "import pandas as pd\n",
    "\n",
    "import os\n",
    "\n",
    "path = os.getcwd()"
   ]
  },
  {
   "cell_type": "markdown",
   "metadata": {},
   "source": [
    "## Cantilever and simulation paramters"
   ]
  },
  {
   "cell_type": "code",
   "execution_count": 2,
   "metadata": {},
   "outputs": [],
   "source": [
    "R = 10.0e-9  #radius of curvature of the parabolic tip apex\n",
    "startprint = 0.0\n",
    "simultime = 1200.0e-6 #total simulation time\n",
    "fo1 =20.0e3  #cantilever 1st mode resonance frequency\n",
    "\n",
    "omega = 2.0*np.pi*fo1\n",
    "period1 = 1.0/fo1  #fundamental period\n",
    "to =7.0*period1   #centered time of the sinc excitation\n",
    "fo2 = 145.9e3 #Hz, calculated from Sader\n",
    "fo3 = 429.0e3 #Hz, calculated from Sader's method\n",
    "k_m2 = 9.822 #N/m calculated from Sader's method\n",
    "k_m3 = 76.99 #N/m calculated from Sader's method\n",
    "Q1 = 2.116 #calculated from Sader's method\n",
    "Q2 = 4.431 #calculated from Sader's method\n",
    "Q3 = 6.769 #calculated from Sader's method\n",
    "BW = 2.5*fo1*2.0  #excitation bandwith of sinc function\n",
    "k_m1 =  0.25 #cantilever's 1st mode stiffness\n",
    "\n",
    "\n",
    "period2 = 1.0/fo2\n",
    "period3 = 1.0/fo3\n",
    "dt= period3/1.0e4 #simulation timestep\n",
    "printstep = period3/100.0 #timestep in the saved time array"
   ]
  },
  {
   "cell_type": "markdown",
   "metadata": {},
   "source": [
    "## Sample parameters, SLS-VOigt configuration"
   ]
  },
  {
   "cell_type": "code",
   "execution_count": 3,
   "metadata": {
    "collapsed": true
   },
   "outputs": [],
   "source": [
    "nu = 0.3\n",
    "Gg_v = np.array([1.0e6,10.0e6,100.0e6,1.0e9,10.0e9]) #Glassy modulus in the Voigt-SLS configuration reported in the grid\n",
    "tau_v = np.array([0.01/omega, 0.1/omega, 1.0/omega, 10.0/omega, 100.0/omega]) #retardation time reported in simulation grid\n",
    "G_v = 1.0e-1/(1.2*R) #modulus of the spring in the Voigt unit that is in series with the upper spring\n",
    "Jg = 1.0/Gg_v #glassy compliance\n",
    "J = 1.0/G_v #compliance of the spring in the Voigt unit that is in series with the upper spring\n",
    "Je = J+Jg  #equilibrium compliance of the SLS-VOigt model"
   ]
  },
  {
   "cell_type": "markdown",
   "metadata": {},
   "source": [
    "## Continuum simulations MDR with thermal noise"
   ]
  },
  {
   "cell_type": "code",
   "execution_count": 6,
   "metadata": {
    "collapsed": true
   },
   "outputs": [],
   "source": [
    "from AFM_sinc import MDR_SLS_sinc_noise_sader, brownian_noise_sader\n",
    "\n",
    "Temp = 273.16 + 25\n",
    "dt = period3/1.0e4\n",
    "printstep = period3/1.0e2\n",
    "Fb1, Fb2, Fb3, _ = brownian_noise_sader(Temp, fo1, k_m1, Q1, dt, simultime)"
   ]
  },
  {
   "cell_type": "code",
   "execution_count": 7,
   "metadata": {},
   "outputs": [
    {
     "name": "stdout",
     "output_type": "stream",
     "text": [
      "C:\\Users\\enrique\\GithubRepositories\\SingleImpact_Simulations\\NoiseA6\n"
     ]
    }
   ],
   "source": [
    "os.chdir(path + '/NoiseA6')\n",
    "print os.getcwd()\n",
    "\n",
    "\n",
    "A = -6.8e-9 #amplitude of the sinc excitation\n",
    "zb = 15.0e-9  #cantilever equilibrium position\n",
    "\n",
    "np.savetxt('Simul_parameters.txt', np.array([zb*1.0e9, A*1.0e9, fo1*1.0e-3, k_m1, Q1]), header = 'Zb(nm)\\tAmp(nm)\\tfo1(kHz)\\tQ1', delimiter = '\\t')"
   ]
  },
  {
   "cell_type": "code",
   "execution_count": 8,
   "metadata": {},
   "outputs": [
    {
     "name": "stdout",
     "output_type": "stream",
     "text": [
      "G: 0.107 MPa, Ge: 0.893 MPa, tau: 0.07105 us\n",
      "Wall time: 10min 45s\n",
      "wNoise_Gg1_tau1.txt\n",
      "G: 0.107 MPa, Ge: 0.893 MPa, tau: 0.71051 us\n",
      "Wall time: 4min 48s\n",
      "wNoise_Gg1_tau2.txt\n",
      "G: 0.107 MPa, Ge: 0.893 MPa, tau: 7.10513 us\n",
      "Wall time: 48.9 s\n",
      "wNoise_Gg1_tau3.txt\n",
      "G: 0.107 MPa, Ge: 0.893 MPa, tau: 71.05131 us\n",
      "Wall time: 49 s\n",
      "wNoise_Gg1_tau4.txt\n",
      "G: 0.107 MPa, Ge: 0.893 MPa, tau: 710.51314 us\n",
      "Wall time: 49.1 s\n",
      "wNoise_Gg1_tau5.txt\n",
      "G: 5.455 MPa, Ge: 4.545 MPa, tau: 0.03617 us\n",
      "Wall time: 10min 43s\n",
      "wNoise_Gg2_tau1.txt\n",
      "G: 5.455 MPa, Ge: 4.545 MPa, tau: 0.36172 us\n",
      "Wall time: 4min 48s\n",
      "wNoise_Gg2_tau2.txt\n",
      "G: 5.455 MPa, Ge: 4.545 MPa, tau: 3.61716 us\n",
      "Wall time: 49 s\n",
      "wNoise_Gg2_tau3.txt\n",
      "G: 5.455 MPa, Ge: 4.545 MPa, tau: 36.17158 us\n",
      "Wall time: 49 s\n",
      "wNoise_Gg2_tau4.txt\n",
      "G: 5.455 MPa, Ge: 4.545 MPa, tau: 361.71578 us\n",
      "Wall time: 49.1 s\n",
      "wNoise_Gg2_tau5.txt\n",
      "G: 92.308 MPa, Ge: 7.692 MPa, tau: 0.00612 us\n",
      "Wall time: 10min 43s\n",
      "wNoise_Gg3_tau1.txt\n",
      "G: 92.308 MPa, Ge: 7.692 MPa, tau: 0.06121 us\n",
      "Wall time: 4min 47s\n",
      "wNoise_Gg3_tau2.txt\n",
      "G: 92.308 MPa, Ge: 7.692 MPa, tau: 0.61213 us\n",
      "Wall time: 49 s\n",
      "wNoise_Gg3_tau3.txt\n",
      "G: 92.308 MPa, Ge: 7.692 MPa, tau: 6.12134 us\n",
      "Wall time: 47.4 s\n",
      "wNoise_Gg3_tau4.txt\n",
      "G: 92.308 MPa, Ge: 7.692 MPa, tau: 61.21344 us\n",
      "Wall time: 47.1 s\n",
      "wNoise_Gg3_tau5.txt\n",
      "G: 991.736 MPa, Ge: 8.264 MPa, tau: 0.00066 us\n",
      "Wall time: 10min 43s\n",
      "wNoise_Gg4_tau1.txt\n",
      "G: 991.736 MPa, Ge: 8.264 MPa, tau: 0.00658 us\n",
      "Wall time: 4min 47s\n",
      "wNoise_Gg4_tau2.txt\n",
      "G: 991.736 MPa, Ge: 8.264 MPa, tau: 0.06577 us\n",
      "Wall time: 49.2 s\n",
      "wNoise_Gg4_tau3.txt\n",
      "G: 991.736 MPa, Ge: 8.264 MPa, tau: 0.65767 us\n",
      "Wall time: 44.4 s\n",
      "wNoise_Gg4_tau4.txt\n",
      "G: 991.736 MPa, Ge: 8.264 MPa, tau: 6.57665 us\n",
      "Wall time: 41.4 s\n",
      "wNoise_Gg4_tau5.txt\n",
      "G: 9991.674 MPa, Ge: 8.326 MPa, tau: 0.00007 us\n",
      "Wall time: 1min 7s\n",
      "wNoise_Gg5_tau1.txt\n",
      "G: 9991.674 MPa, Ge: 8.326 MPa, tau: 0.00066 us\n",
      "Wall time: 4min 46s\n",
      "wNoise_Gg5_tau2.txt\n",
      "G: 9991.674 MPa, Ge: 8.326 MPa, tau: 0.00663 us\n",
      "Wall time: 49.1 s\n",
      "wNoise_Gg5_tau3.txt\n",
      "G: 9991.674 MPa, Ge: 8.326 MPa, tau: 0.06626 us\n",
      "Wall time: 44.2 s\n",
      "wNoise_Gg5_tau4.txt\n",
      "G: 9991.674 MPa, Ge: 8.326 MPa, tau: 0.66259 us\n",
      "Wall time: 38.5 s\n",
      "wNoise_Gg5_tau5.txt\n"
     ]
    }
   ],
   "source": [
    "mdr_jit = jit()(MDR_SLS_sinc_noise_sader)\n",
    "\n",
    "A = -6.8e-9 #amplitude of the sinc excitation\n",
    "zb = 15.0e-9  #cantilever equilibrium position\n",
    "\n",
    "dmax = 5.0e-9\n",
    "Ndy = 1000\n",
    "\n",
    "\n",
    "for i in range(len(Gg_v)):\n",
    "    for j in range(len(tau_v)):\n",
    "        #Transfering to SLS-Maxwell configuration for the MDR algorithm\n",
    "        Ge = 1.0/(Je[i])\n",
    "        G = J/(Jg[i]*Je[i]) \n",
    "        Gg = (G+Ge)\n",
    "        tau_m = tau_v[j]*(Ge/Gg)          \n",
    "        G_mpa = G/1.0e6\n",
    "        Ge_mpa = Ge/1.0e6\n",
    "        tau_us = tau_m*1.0e6\n",
    "        print('G: %.3f MPa, Ge: %.3f MPa, tau: %.5f us'%(G_mpa, Ge_mpa, tau_us))\n",
    "        %time t, tip, Fts, ca, sample, Fsinc, z1, z2, z3 = mdr_jit(A, to , BW, G, tau_m, R, dt, startprint, simultime, fo1, k_m1, zb, Fb1, Fb2, Fb3, printstep, Ge, Q1, Q2, Q3, nu, Ndy, dmax, Temp)\n",
    "        np.savetxt('wNoise_Gg%d_tau%d.txt'%(i+1,j+1), np.array((t-to, Fts, Fsinc, z1, z2, z3)).T, header = 'time(s)\\tFts(N)\\tSinc_Force(N)\\tz1(m)\\tz2(m)\\tz3(m)', delimiter = '\\t')\n",
    "        print('wNoise_Gg%d_tau%d.txt'%(i+1,j+1))"
   ]
  },
  {
   "cell_type": "code",
   "execution_count": null,
   "metadata": {
    "collapsed": true
   },
   "outputs": [],
   "source": []
  }
 ],
 "metadata": {
  "kernelspec": {
   "display_name": "Python 2",
   "language": "python",
   "name": "python2"
  },
  "language_info": {
   "codemirror_mode": {
    "name": "ipython",
    "version": 2
   },
   "file_extension": ".py",
   "mimetype": "text/x-python",
   "name": "python",
   "nbconvert_exporter": "python",
   "pygments_lexer": "ipython2",
   "version": "2.7.13"
  }
 },
 "nbformat": 4,
 "nbformat_minor": 2
}
