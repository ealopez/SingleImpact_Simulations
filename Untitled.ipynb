{
 "cells": [
  {
   "cell_type": "markdown",
   "metadata": {},
   "source": [
    "# Obtaining deflection in time for a sinc excited tip interacting with a viscoelastic solid (Standard Linear Solid)"
   ]
  },
  {
   "cell_type": "code",
   "execution_count": 1,
   "metadata": {
    "collapsed": true
   },
   "outputs": [],
   "source": [
    "import numpy as np\n",
    "from numba import jit\n",
    "from AFM_sinc import MDR_SLS_sinc, SLS_parabolic_LR_sinc, Hertzian_sinc\n",
    "import matplotlib.pyplot as plt\n",
    "from AFM_calculations import derivative_cd, av_dt\n",
    "%matplotlib inline\n",
    "\n",
    "\n",
    "A = -1.36e-9  #amplitude of the sinc excitation\n",
    "R = 10.0e-9  #radius of curvature of the parabolic tip apex\n",
    "startprint = 0.0\n",
    "simultime = 1200.0e-6 #total simulation time\n",
    "fo1 =20.0e3  #cantilever 1st mode resonance frequency\n",
    "omega = 2.0*np.pi*fo1\n",
    "period1 = 1.0/fo1  #fundamental period\n",
    "to =7.0*period1   #centered time of the sinc excitation\n",
    "fo2 = 6.27*fo1\n",
    "fo3 = 17.6*fo1\n",
    "Q1 = 2.0 #cantilever's 1st mode quality factor\n",
    "Q2 = 8.0\n",
    "Q3 = 12.0\n",
    "BW = 2.5*fo1*2.0  #excitation bandwith of sinc function\n",
    "k_m1 =  0.25 #cantilever's 1st mode stiffness\n",
    "zb = 3.85e-9  #cantilever equilibrium position\n",
    "period2 = 1.0/fo2\n",
    "period3 = 1.0/fo3\n",
    "dt= period3/1.0e4 #simulation timestep\n",
    "printstep = dt*10.0 #timestep in the saved time array"
   ]
  },
  {
   "cell_type": "markdown",
   "metadata": {},
   "source": [
    "## Interconversion of SLS parameters between Voigt and Maxwell configuration"
   ]
  },
  {
   "cell_type": "code",
   "execution_count": 2,
   "metadata": {},
   "outputs": [
    {
     "name": "stdout",
     "output_type": "stream",
     "text": [
      "1.98447559965e-07\n",
      "2.84090909091e-10\n"
     ]
    }
   ],
   "source": [
    "nu = 0.5  #time independent Poisson's ratio\n",
    "G_v = 1.0e-1/(1.2*R)    #modulus of the spring in the Voigt unit that is in series with the upper spring\n",
    "\n",
    "Gg_v = 10.0e9 /(2*(1+nu))  #Glassy modulus in the Voigt-SLS configuration reported in the grid\n",
    "Jg = 1.0/Gg_v  #glassy compliance\n",
    "tau_v = 10.0/omega  #retardation time reported in simulation grid\n",
    "J = 1.0/G_v   #compliance of the spring in the Voigt unit that is in series with the upper spring\n",
    "eta = tau_v*G_v\n",
    "phi = 1.0/eta #fluidity of the dashpot in the Voigt unit that is in series with the upper spring\n",
    "Je = J+Jg\n",
    "\n",
    "# Now converting to the Maxwell SLS configuration: spring in parallel with Maxwell unit, note that these two models are mechanical analogs showing quantitatively the same behavior\n",
    "Ge = 1.0/(Je)\n",
    "G = J/(Jg*Je) \n",
    "Gg = (G+Ge)\n",
    "tau_m = tau_v*(Ge/Gg)\n",
    "eta = tau_m*G\n",
    "\n",
    "print tau_m\n",
    "print dt\n"
   ]
  },
  {
   "cell_type": "markdown",
   "metadata": {},
   "source": [
    "## Runing simulation with Lee and Radok formulation"
   ]
  },
  {
   "cell_type": "code",
   "execution_count": 17,
   "metadata": {
    "collapsed": true
   },
   "outputs": [],
   "source": [
    "sls_jit = jit()(SLS_parabolic_LR_sinc)\n",
    "\n",
    "zb = 3.85e-9  #cantilever equilibrium position\n",
    "t_lr, tip_lr, Fts_lr, xb_lr = sls_jit(A, to, BW, G, tau_m, R, dt, startprint, simultime, fo1, k_m1, zb, printstep, Ge, Q1, Q2, Q3, nu)\n"
   ]
  },
  {
   "cell_type": "markdown",
   "metadata": {},
   "source": [
    "## Runing simulation with Hertzian solution"
   ]
  },
  {
   "cell_type": "code",
   "execution_count": 18,
   "metadata": {
    "collapsed": true
   },
   "outputs": [],
   "source": [
    "hertz_jit = jit()(Hertzian_sinc)\n",
    "\n",
    "t_h, tp_h, Fts_h = hertz_jit(A, to, BW, Gg, R, dt, startprint, simultime, fo1, k_m1, zb, printstep, Q1, Q2, Q3, nu)"
   ]
  },
  {
   "cell_type": "markdown",
   "metadata": {},
   "source": [
    "### Comparing with data in C"
   ]
  },
  {
   "cell_type": "code",
   "execution_count": 19,
   "metadata": {
    "collapsed": true
   },
   "outputs": [],
   "source": [
    "import pandas as pd \n",
    "\n",
    "res = pd.read_csv(\"FDcurve_10GPa_tau4.txt\", delimiter=\"\\t\")\n",
    "\n",
    "t_c = res.iloc[:,0].values\n",
    "fts_c = res.iloc[:,1].values\n",
    "z1_c = res.iloc[:,3].values\n",
    "z2_c = res.iloc[:,4].values\n",
    "z3_c = res.iloc[:,5].values"
   ]
  },
  {
   "cell_type": "code",
   "execution_count": null,
   "metadata": {
    "collapsed": true
   },
   "outputs": [],
   "source": []
  },
  {
   "cell_type": "code",
   "execution_count": 27,
   "metadata": {},
   "outputs": [
    {
     "name": "stdout",
     "output_type": "stream",
     "text": [
      "        Time(s)  Tip_Sample_Force(N)  Sinc_Force(N)         z1(m)  \\\n",
      "0  2.840909e-11                  0.0  -1.104285e-16 -0.000000e+00   \n",
      "1  2.840909e-08                  0.0  -1.103971e-13 -9.403641e-19   \n",
      "2  5.684659e-08                  0.0  -2.209138e-13 -7.519757e-18   \n",
      "3  8.525568e-08                  0.0  -3.313204e-13 -2.534297e-17   \n",
      "4  1.136648e-07                  0.0  -4.417185e-13 -6.001595e-17   \n",
      "\n",
      "          z2(m)         z3(m)  \n",
      "0 -0.000000e+00 -0.000000e+00  \n",
      "1 -9.401038e-19 -9.393709e-19  \n",
      "2 -7.515221e-18 -7.500907e-18  \n",
      "3 -2.531819e-17 -2.523289e-17  \n",
      "4 -5.993188e-17 -5.962187e-17  \n"
     ]
    }
   ],
   "source": [
    "print res.head()"
   ]
  },
  {
   "cell_type": "code",
   "execution_count": 23,
   "metadata": {},
   "outputs": [
    {
     "data": {
      "text/plain": [
       "<matplotlib.legend.Legend at 0x1308ccf8>"
      ]
     },
     "execution_count": 23,
     "metadata": {},
     "output_type": "execute_result"
    },
    {
     "data": {
      "image/png": "[encoded data removed]",
      "text/plain": [
       "<matplotlib.figure.Figure at 0x9a05780>"
      ]
     },
     "metadata": {},
     "output_type": "display_data"
    }
   ],
   "source": [
    "#plt.plot(t_lr-to, Fts_lr, label='LeeRadok')\n",
    "plt.plot(t_c-to, fts_c, label = 'Cresult')\n",
    "plt.plot(t_m-to, Fts_m, label = 'MDR')\n",
    "plt.xlim(0, 0.018e-3)\n",
    "plt.legend(loc=1)\n"
   ]
  },
  {
   "cell_type": "code",
   "execution_count": 32,
   "metadata": {},
   "outputs": [
    {
     "data": {
      "text/plain": [
       "<matplotlib.legend.Legend at 0xf602ef0>"
      ]
     },
     "execution_count": 32,
     "metadata": {},
     "output_type": "execute_result"
    },
    {
     "data": {
      "image/png": "[encoded data removed]",
      "text/plain": [
       "<matplotlib.figure.Figure at 0xed746d8>"
      ]
     },
     "metadata": {},
     "output_type": "display_data"
    }
   ],
   "source": [
    "plt.plot(t_m-to, tip_m-zb, label = 'MDR')\n",
    "plt.plot(t_c-to, (z1_c+z2_c+z3_c), label = 'C')\n",
    "plt.xlim(0,0.1e-3)\n",
    "plt.legend(loc=1)"
   ]
  },
  {
   "cell_type": "code",
   "execution_count": 52,
   "metadata": {},
   "outputs": [
    {
     "data": {
      "text/plain": [
       "(0, 0.0001)"
      ]
     },
     "execution_count": 52,
     "metadata": {},
     "output_type": "execute_result"
    },
    {
     "data": {
      "image/png": "[encoded data removed]",
      "text/plain": [
       "<matplotlib.figure.Figure at 0x1afa0208>"
      ]
     },
     "metadata": {},
     "output_type": "display_data"
    }
   ],
   "source": [
    "noise = np.random.normal(0,0.05e-9,np.size(t_c))\n",
    "tip_c = (z1_c+z2_c+z3_c)\n",
    "tip_c_noisy = tip_c + noise\n",
    "\n",
    "noise_m = np.random.normal(0,0.05e-9, np.size(t_m))\n",
    "tip_m_noisy = tip_m + noise_m\n",
    "plt.plot(t_c-to, tip_c_noisy)\n",
    "plt.xlim(0,0.1e-3)"
   ]
  },
  {
   "cell_type": "code",
   "execution_count": 58,
   "metadata": {},
   "outputs": [
    {
     "name": "stdout",
     "output_type": "stream",
     "text": [
      "422400\n",
      "42240\n",
      "42240\n"
     ]
    }
   ],
   "source": [
    "print np.size(t_m)\n",
    "print np.size(t_c)\n",
    "\n",
    "t_m = t_m[::10]\n",
    "tip_m = tip_m[::10]\n",
    "tip_m_noisy = tip_m_noisy[::10]\n",
    "Fts_m = Fts_m[::10]\n",
    "\n",
    "print np.size(t_m)"
   ]
  },
  {
   "cell_type": "code",
   "execution_count": 64,
   "metadata": {},
   "outputs": [
    {
     "name": "stdout",
     "output_type": "stream",
     "text": [
      "   # time(s)  deflection(m)  deflection_noisy(m)  Fts(N)\n",
      "0   -0.00035  -3.714041e-21         9.736429e-11     0.0\n",
      "1   -0.00035  -3.949165e-18        -6.254238e-11     0.0\n",
      "2   -0.00035  -2.675695e-17        -1.708183e-11     0.0\n",
      "3   -0.00035  -8.518897e-17        -5.597510e-11     0.0\n",
      "4   -0.00035  -1.958986e-16        -3.890159e-11     0.0\n"
     ]
    }
   ],
   "source": [
    "np.savetxt('NoisyResults_NL3P.txt', np.array((t_c-to, tip_c, tip_c_noisy, fts_c)).T, header = 'time(s)\\tdeflection(m)\\tdeflection_noisy(m)\\tFts(N)', delimiter = '\\t')\n",
    "noisy = pd.read_csv(\"NoisyResults_NL3P.txt\", delimiter=\"\\t\")\n",
    "#print noisy.head()\n",
    "\n",
    "np.savetxt('NoisyResults_Continuum.txt', np.array((t_m-to, tip_m-zb, tip_m_noisy-zb, Fts_m)).T, header = 'time(s)\\tdeflection(m)\\tdeflection_noisy(m)\\tFts(N)', delimiter = '\\t')\n",
    "noisy_m = pd.read_csv(\"NoisyResults_Continuum.txt\", delimiter=\"\\t\")\n",
    "print noisy_m.head()\n"
   ]
  },
  {
   "cell_type": "code",
   "execution_count": 68,
   "metadata": {},
   "outputs": [
    {
     "data": {
      "text/plain": [
       "(0, 5e-05)"
      ]
     },
     "execution_count": 68,
     "metadata": {},
     "output_type": "execute_result"
    },
    {
     "data": {
      "image/png": "[encoded data removed]",
      "text/plain": [
       "<matplotlib.figure.Figure at 0x1bcda320>"
      ]
     },
     "metadata": {},
     "output_type": "display_data"
    }
   ],
   "source": [
    "plt.plot(noisy.iloc[:,0], noisy.iloc[:,2])\n",
    "plt.plot(noisy_m.iloc[:,0], noisy_m.iloc[:,2])\n",
    "plt.xlim(0,0.05e-3)"
   ]
  },
  {
   "cell_type": "code",
   "execution_count": null,
   "metadata": {
    "collapsed": true
   },
   "outputs": [],
   "source": [
    "plt.plot((tip_lr - zb)*1.0e9, Fts_lr, 'y', lw=5, label = 'python-LR')\n",
    "#plt.plot( (tip_m-zb)*1.0e9, Fts_m, 'b', lw=4, label = 'MDR' )\n",
    "alfa = 8.0/3.0*np.sqrt(R)/(1.0-nu)\n",
    "#plt.plot((tip_lr - zb)*1.0e9, conv*alfa, 'b', lw=1.0, label='convolution-LR')\n",
    "plt.plot((z1_c+z2_c+z3_c)*1.0e9, fts_c, 'r', lw=3.0, label = 'C')\n",
    "plt.plot((tp_h-zb)*1.0e9, Fts_h, 'g--', lw=2.0, label = 'Hertz')\n",
    "plt.legend(loc=1)"
   ]
  },
  {
   "cell_type": "markdown",
   "metadata": {},
   "source": [
    "## Runing simulation for the Method of dimensionality reduction (aligned with Ting's theory)"
   ]
  },
  {
   "cell_type": "code",
   "execution_count": 22,
   "metadata": {
    "collapsed": true
   },
   "outputs": [],
   "source": [
    "MDR_jit = jit()(MDR_SLS_sinc)\n",
    "t_m, tip_m, Fts_m, ca_m, sample_m = MDR_jit(A, to, BW, G, tau_m, R, dt, startprint, simultime, fo1, k_m1, zb, printstep, Ge, Q1, Q2, Q3, nu, 1000, 10.0e-9)\n",
    "  "
   ]
  },
  {
   "cell_type": "markdown",
   "metadata": {},
   "source": [
    "## Comparing Lee and Radok with Ting's solution (obtained with MDR method)"
   ]
  },
  {
   "cell_type": "code",
   "execution_count": null,
   "metadata": {
    "collapsed": true
   },
   "outputs": [],
   "source": [
    "xb_dot = derivative_cd((-xb_lr)**1.5, t_lr)  #derivative of the sample displacement\n",
    "G_rel = np.zeros(len(t_lr))\n",
    "G_rel = Ge + G*np.exp(-t_lr/tau_m)   #relaxation modulus of the SLS model\n",
    "dt_lr = av_dt(t_lr)\n",
    "\n",
    "conv = np.convolve(G_rel, xb_dot, mode='full')*dt_lr #convolution of the relaxation modulus with the derivative of sample displacement\n",
    "conv = conv[:len(xb_lr)]\n"
   ]
  }
 ],
 "metadata": {
  "kernelspec": {
   "display_name": "Python 2",
   "language": "python",
   "name": "python2"
  },
  "language_info": {
   "codemirror_mode": {
    "name": "ipython",
    "version": 2
   },
   "file_extension": ".py",
   "mimetype": "text/x-python",
   "name": "python",
   "nbconvert_exporter": "python",
   "pygments_lexer": "ipython2",
   "version": "2.7.13"
  }
 },
 "nbformat": 4,
 "nbformat_minor": 2
}
