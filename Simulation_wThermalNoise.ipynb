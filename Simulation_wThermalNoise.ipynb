{
 "cells": [
  {
   "cell_type": "code",
   "execution_count": null,
   "metadata": {},
   "outputs": [],
   "source": [
    "import numpy as np\n",
    "from numba import jit\n",
    "from AFM_sinc import MDR_SLS_sinc_noise\n",
    "import matplotlib.pyplot as plt\n",
    "%matplotlib inline\n",
    "import pandas as pd\n"
   ]
  },
  {
   "cell_type": "markdown",
   "metadata": {},
   "source": [
    "## Cantilever and simulation parameters"
   ]
  },
  {
   "cell_type": "code",
   "execution_count": null,
   "metadata": {
    "collapsed": true
   },
   "outputs": [],
   "source": [
    "A = -1.36e-9  #amplitude of the sinc excitation\n",
    "R = 10.0e-9  #radius of curvature of the parabolic tip apex\n",
    "startprint = 0.0\n",
    "simultime = 1200.0e-6 #total simulation time\n",
    "fo1 =20.0e3  #cantilever 1st mode resonance frequency\n",
    "omega = 2.0*np.pi*fo1\n",
    "period1 = 1.0/fo1  #fundamental period\n",
    "to =7.0*period1   #centered time of the sinc excitation\n",
    "fo2 = 6.27*fo1\n",
    "fo3 = 17.6*fo1\n",
    "Q1 = 2.0 #cantilever's 1st mode quality factor\n",
    "Q2 = 8.0\n",
    "Q3 = 12.0\n",
    "BW = 2.5*fo1*2.0  #excitation bandwith of sinc function\n",
    "k_m1 =  0.25 #cantilever's 1st mode stiffness\n",
    "zb = 3.85e-9  #cantilever equilibrium position\n",
    "period2 = 1.0/fo2\n",
    "period3 = 1.0/fo3\n",
    "dt= period3/1.0e3 #simulation timestep\n",
    "printstep = period3/100.0 #timestep in the saved time array"
   ]
  },
  {
   "cell_type": "markdown",
   "metadata": {},
   "source": [
    "## Simulation with thermal noise, no external excitation"
   ]
  },
  {
   "cell_type": "code",
   "execution_count": null,
   "metadata": {},
   "outputs": [],
   "source": [
    "G = 1.0e6\n",
    "Ge = 1.0e6\n",
    "tau = 0.1\n",
    "nu = 0.5\n",
    "\n",
    "zb = 100.0e-9\n",
    "\n",
    "mdr_jit = jit()(MDR_SLS_sinc_noise)\n",
    "\n",
    "Temp = 273.16 + 25\n",
    "%time t, tip, _, _, _, _, z1, z2, z3 = mdr_jit(A, to , BW, G, tau, R, dt, startprint, simultime, fo1, k_m1, zb, printstep, Ge, Q1, Q2, Q3, nu, 10, 1.0e-9, Temp)\n"
   ]
  },
  {
   "cell_type": "code",
   "execution_count": null,
   "metadata": {},
   "outputs": [],
   "source": [
    "plt.plot(t, tip)"
   ]
  },
  {
   "cell_type": "markdown",
   "metadata": {},
   "source": [
    "## Making FFT of z1"
   ]
  },
  {
   "cell_type": "code",
   "execution_count": null,
   "metadata": {},
   "outputs": [],
   "source": [
    "z1_nu = np.fft.fft(z1)/len(t)\n",
    "nu = np.fft.fftfreq(len(t),printstep)\n",
    "\n",
    "A = 2.0*np.real(z1_nu)\n",
    "B = -2.0*np.imag(z1_nu)\n",
    "Amp = np.sqrt(A**2+B**2)\n",
    "\n",
    "sf = 1.0/printstep    #sampling frequency\n",
    "Nyquist = 1.0/2*sf\n",
    "plt.plot(nu*1.0e-3, Amp)\n",
    "plt.xlim(0.0,Nyquist/50.0*1.0e-3)"
   ]
  },
  {
   "cell_type": "code",
   "execution_count": null,
   "metadata": {},
   "outputs": [],
   "source": [
    "print nu[np.argmax(Amp)]"
   ]
  },
  {
   "cell_type": "markdown",
   "metadata": {},
   "source": [
    "## Making FFT of tip"
   ]
  },
  {
   "cell_type": "code",
   "execution_count": null,
   "metadata": {},
   "outputs": [],
   "source": [
    "tip_nu = np.fft.fft(tip)/len(t)\n",
    "nu = np.fft.fftfreq(len(t),printstep)\n",
    "\n",
    "A = 2.0*np.real(tip_nu)\n",
    "B = -2.0*np.imag(tip_nu)\n",
    "Amp = np.sqrt(A**2+B**2)\n",
    "\n",
    "sf = 1.0/dt    #sampling frequency\n",
    "Nyquist = 1.0/2*sf\n",
    "plt.plot(nu*1.0e-3, Amp)\n",
    "plt.xlim(0.0,Nyquist/300.0*1.0e-3)\n",
    "plt.ylim(0.0,0.5e-10)"
   ]
  },
  {
   "cell_type": "code",
   "execution_count": null,
   "metadata": {},
   "outputs": [],
   "source": [
    "print 20.0*17.6\n"
   ]
  },
  {
   "cell_type": "code",
   "execution_count": null,
   "metadata": {
    "collapsed": true
   },
   "outputs": [],
   "source": []
  }
 ],
 "metadata": {
  "kernelspec": {
   "display_name": "Python 2",
   "language": "python",
   "name": "python2"
  },
  "language_info": {
   "codemirror_mode": {
    "name": "ipython",
    "version": 2
   },
   "file_extension": ".py",
   "mimetype": "text/x-python",
   "name": "python",
   "nbconvert_exporter": "python",
   "pygments_lexer": "ipython2",
   "version": "2.7.13"
  }
 },
 "nbformat": 4,
 "nbformat_minor": 2
}
