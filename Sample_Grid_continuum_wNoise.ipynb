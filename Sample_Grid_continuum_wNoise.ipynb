{
 "cells": [
  {
   "cell_type": "code",
   "execution_count": 1,
   "metadata": {
    "collapsed": true
   },
   "outputs": [],
   "source": [
    "import numpy as np\n",
    "from numba import jit\n",
    "from AFM_sinc import MDR_SLS_sinc, MDR_SLS_sinc_noise\n",
    "import matplotlib.pyplot as plt\n",
    "%matplotlib inline\n",
    "import pandas as pd\n",
    "\n",
    "import os\n",
    "\n",
    "path = os.getcwd()"
   ]
  },
  {
   "cell_type": "markdown",
   "metadata": {},
   "source": [
    "## Cantilever and simulation parameters"
   ]
  },
  {
   "cell_type": "code",
   "execution_count": 2,
   "metadata": {
    "collapsed": true
   },
   "outputs": [],
   "source": [
    "R = 10.0e-9  #radius of curvature of the parabolic tip apex\n",
    "startprint = 0.0\n",
    "simultime = 1200.0e-6 #total simulation time\n",
    "fo1 =20.0e3  #cantilever 1st mode resonance frequency\n",
    "omega = 2.0*np.pi*fo1\n",
    "period1 = 1.0/fo1  #fundamental period\n",
    "to =7.0*period1   #centered time of the sinc excitation\n",
    "fo2 = 6.27*fo1\n",
    "fo3 = 17.6*fo1\n",
    "Q1 = 2.0 #cantilever's 1st mode quality factor\n",
    "Q2 = 8.0\n",
    "Q3 = 12.0\n",
    "BW = 2.5*fo1*2.0  #excitation bandwith of sinc function\n",
    "k_m1 =  0.25 #cantilever's 1st mode stiffness\n",
    "\n",
    "period2 = 1.0/fo2\n",
    "period3 = 1.0/fo3\n",
    "dt= period3/1.0e4 #simulation timestep\n",
    "printstep = period3/100.0 #timestep in the saved time array"
   ]
  },
  {
   "cell_type": "markdown",
   "metadata": {},
   "source": [
    "## Sample Parameters, SLS-Voigt configuration"
   ]
  },
  {
   "cell_type": "code",
   "execution_count": null,
   "metadata": {
    "collapsed": true
   },
   "outputs": [],
   "source": [
    "nu = 0.3\n",
    "Gg_v = np.array([1.0e6,10.0e6,100.0e6,1.0e9,10.0e9])/(2*(1+nu)) #Glassy modulus in the Voigt-SLS configuration reported in the grid\n",
    "tau_v = np.array([0.01/omega, 0.1/omega, 1.0/omega, 10.0/omega, 100.0/omega]) #retardation time reported in simulation grid\n",
    "G_v = 1.0e-1/(1.2*R) #modulus of the spring in the Voigt unit that is in series with the upper spring\n",
    "Jg = 1.0/Gg_v #glassy compliance\n",
    "J = 1.0/G_v #compliance of the spring in the Voigt unit that is in series with the upper spring\n",
    "Je = J+Jg  #equilibrium compliance of the SLS-VOigt model"
   ]
  },
  {
   "cell_type": "markdown",
   "metadata": {},
   "source": [
    "## Continuum simulations with the method of dimensionality reduction (No noise)"
   ]
  },
  {
   "cell_type": "code",
   "execution_count": null,
   "metadata": {},
   "outputs": [],
   "source": [
    "os.chdir(path + '/NoNoise')\n",
    "print os.getcwd()\n",
    "\n",
    "zb = 15.0e-9  #cantilever equilibrium position\n",
    "np.savetxt('Simul_parameters.txt', np.array([zb*1.0e9, A*1.0e9, fo1*1.0e-3, k_m1, Q1]), header = 'Zb(nm)\\tAmp(nm)\\tfo1(kHz)\\tQ1', delimiter = '\\t')"
   ]
  },
  {
   "cell_type": "code",
   "execution_count": null,
   "metadata": {},
   "outputs": [],
   "source": [
    "MDR_jit = jit()(MDR_SLS_sinc)\n",
    "\n",
    "A = -13.6e-9 #amplitude of the sinc excitation\n",
    "zb = 15.0e-9  #cantilever equilibrium position\n",
    "\n",
    "dmax = 5.0e-9\n",
    "Ndy = 1000\n",
    "dt = period3/1.0e4\n",
    "printstep = period3/1.0e2\n",
    "\n",
    "for i in range(len(Gg_v)):\n",
    "    for j in range(len(tau_v)):\n",
    "        #Transfering to SLS-Maxwell configuration for the MDR algorithm\n",
    "        Ge = 1.0/(Je[i])\n",
    "        G = J/(Jg[i]*Je[i]) \n",
    "        Gg = (G+Ge)\n",
    "        tau_m = tau_v[j]*(Ge/Gg)          \n",
    "        G_mpa = G/1.0e6\n",
    "        Ge_mpa = Ge/1.0e6\n",
    "        tau_us = tau_m*1.0e6\n",
    "        print('G: %.3f MPa, Ge: %.3f MPa, tau: %.5f us'%(G_mpa, Ge_mpa, tau_us))\n",
    "        %time t_m, tip_m, Fts_m, ca_m, sample_m, Fsinc_m, z1_m, z2_m, z3_m = MDR_jit(A, to, BW, G, tau_m, R, dt, startprint, simultime, fo1, k_m1, zb, printstep, Ge, Q1, Q2, Q3, nu, Ndy,dmax)\n",
    "        np.savetxt('Continuum_Gg%d_tau%d.txt'%(i+1,j+1), np.array((t_m-to, Fts_m, Fsinc_m, z1_m, z2_m, z3_m)).T, header = 'time(s)\\tFts(N)\\tSinc_Force(N)\\tz1(m)\\tz2(m)\\tz3(m)', delimiter = '\\t')\n",
    "        print('Continuum_Gg%d_tau%d.txt'%(i+1,j+1))"
   ]
  },
  {
   "cell_type": "markdown",
   "metadata": {},
   "source": [
    "## Continuum simulations MDR with thermal noise included"
   ]
  },
  {
   "cell_type": "code",
   "execution_count": null,
   "metadata": {
    "collapsed": true
   },
   "outputs": [],
   "source": [
    "os.chdir(path + '/Noise')\n",
    "print os.getcwd()\n",
    "\n",
    "np.savetxt('Simul_parameters.txt', np.array([zb*1.0e9, A*1.0e9, fo1*1.0e-3, k_m1, Q1]), header = 'Zb(nm)\\tAmp(nm)\\tfo1(kHz)\\tQ1', delimiter = '\\t')"
   ]
  },
  {
   "cell_type": "code",
   "execution_count": null,
   "metadata": {
    "collapsed": true
   },
   "outputs": [],
   "source": [
    "mdr_jit = jit()(MDR_SLS_sinc_noise)\n",
    "Temp = 273.16 + 25\n",
    "\n",
    "\n",
    "A = -13.6e-9 #amplitude of the sinc excitation\n",
    "zb = 15.0e-9  #cantilever equilibrium position\n",
    "\n",
    "dmax = 5.0e-9\n",
    "Ndy = 1000\n",
    "dt = period3/1.0e4\n",
    "printstep = period3/1.0e2\n",
    "\n",
    "for i in range(len(Gg_v)):\n",
    "    for j in range(len(tau_v)):\n",
    "        #Transfering to SLS-Maxwell configuration for the MDR algorithm\n",
    "        Ge = 1.0/(Je[i])\n",
    "        G = J/(Jg[i]*Je[i]) \n",
    "        Gg = (G+Ge)\n",
    "        tau_m = tau_v[j]*(Ge/Gg)          \n",
    "        G_mpa = G/1.0e6\n",
    "        Ge_mpa = Ge/1.0e6\n",
    "        tau_us = tau_m*1.0e6\n",
    "        print('G: %.3f MPa, Ge: %.3f MPa, tau: %.5f us'%(G_mpa, Ge_mpa, tau_us))\n",
    "        %time t, tip, Fts, ca, sample, Fsinc, z1, z2, z3 = mdr_jit(A, to , BW, G, tau, R, dt, startprint, simultime, fo1, k_m1, zb, printstep, Ge, Q1, Q2, Q3, nu, Ndy, dmax, Temp)\n",
    "\n",
    "        np.savetxt('Continuum_Gg%d_tau%d.txt'%(i+1,j+1), np.array((t_m-to, Fts_m, Fsinc_m, z1_m, z2_m, z3_m)).T, header = 'time(s)\\tFts(N)\\tSinc_Force(N)\\tz1(m)\\tz2(m)\\tz3(m)', delimiter = '\\t')\n",
    "        print('Continuum_Gg%d_tau%d.txt'%(i+1,j+1))\n"
   ]
  }
 ],
 "metadata": {
  "kernelspec": {
   "display_name": "Python 2",
   "language": "python",
   "name": "python2"
  },
  "language_info": {
   "codemirror_mode": {
    "name": "ipython",
    "version": 2
   },
   "file_extension": ".py",
   "mimetype": "text/x-python",
   "name": "python",
   "nbconvert_exporter": "python",
   "pygments_lexer": "ipython2",
   "version": "2.7.13"
  }
 },
 "nbformat": 4,
 "nbformat_minor": 2
}
